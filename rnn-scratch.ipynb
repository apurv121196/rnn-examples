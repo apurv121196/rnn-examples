{
 "cells": [
  {
   "cell_type": "code",
   "execution_count": 1,
   "metadata": {},
   "outputs": [],
   "source": [
    "import numpy as np"
   ]
  },
  {
   "cell_type": "code",
   "execution_count": 5,
   "metadata": {},
   "outputs": [],
   "source": [
    "def softmax(x):\n",
    "    ex = np.exp(x-np.max(x))\n",
    "    return ex / ex.sum(axis = 0)"
   ]
  },
  {
   "cell_type": "code",
   "execution_count": 9,
   "metadata": {},
   "outputs": [],
   "source": [
    "def rnn_cell_forward(xt, a_prev, parameters):\n",
    "    Wax = parameters[\"Wax\"]\n",
    "    Waa = parameters[\"Waa\"]\n",
    "    Wya = parameters[\"Wya\"]\n",
    "    ba = parameters[\"ba\"]\n",
    "    by = parameters[\"by\"]\n",
    "    \n",
    "    a_next = np.tanh(np.dot(Wax, xt) + np.dot(Waa, a_prev) + ba)\n",
    "    y_pred = softmax(np.dot(Wya, a_next) + by)\n",
    "    \n",
    "#     cache = (a_next, a_prev, xt, parameters)\n",
    "    \n",
    "    return a_next, y_pred"
   ]
  },
  {
   "cell_type": "code",
   "execution_count": 10,
   "metadata": {},
   "outputs": [],
   "source": [
    "def rnn_forward(X, Y, a0, parameters, vocab_size = 50):\n",
    "    x, a, y_hat = {}, {}, {}\n",
    "    a[-1] = np.copy(a0)\n",
    "    loss = 0\n",
    "    \n",
    "    for t in range(len(X)):\n",
    "        x[t] = np.zeros((vocab_size, 1))\n",
    "        x[t][X[t]] = 1\n",
    "        \n",
    "        a[t], y_hat[t] = rnn_cell_forward(x[t], a[t-1], parameters)\n",
    "        \n",
    "        loss = -np.log(y_hat[t][Y[t],0])\n",
    "    \n",
    "    cache = (y_hat, a, x)\n",
    "    return loss, cache"
   ]
  },
  {
   "cell_type": "code",
   "execution_count": 12,
   "metadata": {},
   "outputs": [],
   "source": [
    "def rnn_cell_backward(dy, gradients, parameters, x, a, a_prev):\n",
    "    gradients[\"dWya\"] += np.dot(dy, a.T)\n",
    "    gradients[\"dby\"] += dy\n",
    "    da = np.dot(parameters[\"Wya\"].T, dy) + gradients[\"da_next\"]\n",
    "    dz = (1 - a ** 2) * da\n",
    "    gradients[\"db\"] += dz\n",
    "    gradients[\"dWax\"] += np.dot(dz, x.T)\n",
    "    gradients[\"dWaa\"] += np.dot(dz, a_prev.T)\n",
    "    gradients[\"da_next\"] += np.dot(parameters[\"Waa\"].T, dz)\n",
    "    return gradients"
   ]
  },
  {
   "cell_type": "code",
   "execution_count": 13,
   "metadata": {},
   "outputs": [],
   "source": [
    "def rnn_backward(X, Y, parameters, cache):\n",
    "    gradients = {}\n",
    "    (y_hat, a, x) = cache\n",
    "    Waa = parameters[\"Waa\"]\n",
    "    Wax = parameters[\"Wax\"]\n",
    "    Wya = parameters[\"Wya\"]\n",
    "    by = parameters[\"by\"]\n",
    "    ba = parameters[\"ba\"]\n",
    "    \n",
    "    gradients[\"dWax\"], gradients[\"dWaa\"], gradients[\"dWya\"] = np.zeros_like(Wax), np.zeros_like(Waa), np.zeros_like(Wya)\n",
    "    gradients[\"dby\"], gradients[\"dba\"] = np.zeros_like[\"by\"], np.zeros_like[\"ba\"]\n",
    "    gradients[\"da_next\"] = np.zeros_like(a[0])\n",
    "    \n",
    "    for t in reversed(range(len(X))):\n",
    "        dy = np.copy(y_hat[t])\n",
    "        dy[Y[t]] -= 1\n",
    "        gradients = rnn_cell_backward(dy, gradients, parameters, x[t], a[t], a[t-1])\n",
    "    return gradients, a"
   ]
  },
  {
   "cell_type": "code",
   "execution_count": null,
   "metadata": {},
   "outputs": [],
   "source": []
  }
 ],
 "metadata": {
  "kernelspec": {
   "display_name": "Python 3",
   "language": "python",
   "name": "python3"
  },
  "language_info": {
   "codemirror_mode": {
    "name": "ipython",
    "version": 3
   },
   "file_extension": ".py",
   "mimetype": "text/x-python",
   "name": "python",
   "nbconvert_exporter": "python",
   "pygments_lexer": "ipython3",
   "version": "3.5.6"
  }
 },
 "nbformat": 4,
 "nbformat_minor": 2
}
